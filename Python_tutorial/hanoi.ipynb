{
 "cells": [
  {
   "cell_type": "code",
   "execution_count": 62,
   "metadata": {},
   "outputs": [
    {
     "name": "stdout",
     "output_type": "stream",
     "text": [
      "1번 원판을 1번 기둥에서 4번 기둥으로 이동\n",
      "2번 원판을 1번 기둥에서 5번 기둥으로 이동\n",
      "1번 원판을 4번 기둥에서 5번 기둥으로 이동\n",
      "3번 원판을 1번 기둥에서 4번 기둥으로 이동\n",
      "1번 원판을 5번 기둥에서 1번 기둥으로 이동\n",
      "2번 원판을 5번 기둥에서 4번 기둥으로 이동\n",
      "1번 원판을 1번 기둥에서 4번 기둥으로 이동\n",
      "4번 원판을 1번 기둥에서 5번 기둥으로 이동\n",
      "1번 원판을 4번 기둥에서 5번 기둥으로 이동\n",
      "2번 원판을 4번 기둥에서 1번 기둥으로 이동\n",
      "1번 원판을 5번 기둥에서 1번 기둥으로 이동\n",
      "3번 원판을 4번 기둥에서 5번 기둥으로 이동\n",
      "1번 원판을 1번 기둥에서 4번 기둥으로 이동\n",
      "2번 원판을 1번 기둥에서 5번 기둥으로 이동\n",
      "1번 원판을 4번 기둥에서 5번 기둥으로 이동\n"
     ]
    }
   ],
   "source": [
    "def move_disk(disk_num, start_peg, end_peg):\n",
    "    print(\"%d번 원판을 %d번 기둥에서 %d번 기둥으로 이동\" % (disk_num, start_peg, end_peg))\n",
    "\n",
    "def hanoi(num_disks, start_peg, end_peg):\n",
    "    if num_disks == 1 :\n",
    "        return move_disk(num_disks, start_peg, end_peg)\n",
    "    \n",
    "    other_peg = 10-(start_peg + end_peg)\n",
    "    \n",
    "    hanoi(num_disks-1, start_peg, other_peg)\n",
    "    move_disk(num_disks, start_peg,end_peg)\n",
    "    hanoi(num_disks-1, other_peg, end_peg)\n",
    "    \n",
    "hanoi(4, 1, 5)"
   ]
  }
 ],
 "metadata": {
  "kernelspec": {
   "display_name": "Python 3",
   "language": "python",
   "name": "python3"
  },
  "language_info": {
   "codemirror_mode": {
    "name": "ipython",
    "version": 3
   },
   "file_extension": ".py",
   "mimetype": "text/x-python",
   "name": "python",
   "nbconvert_exporter": "python",
   "pygments_lexer": "ipython3",
   "version": "3.6.5"
  }
 },
 "nbformat": 4,
 "nbformat_minor": 2
}
