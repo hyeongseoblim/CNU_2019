{
 "cells": [
  {
   "cell_type": "code",
   "execution_count": 18,
   "metadata": {},
   "outputs": [
    {
     "name": "stdout",
     "output_type": "stream",
     "text": [
      "영어 단어를 입력하세요: dg\n",
      "한국어 뜻을 입력하세요: 개\n",
      "영어 단어를 입력하세요: cat\n",
      "한국어 뜻을 입력하세요: 고양이\n",
      "영어 단어를 입력하세요: hat\n",
      "한국어 뜻을 입력하세요: 모자\n",
      "영어 단어를 입력하세요: water\n",
      "한국어 뜻을 입력하세요: 물\n",
      "영어 단어를 입력하세요: phone\n",
      "한국어 뜻을 입력하세요: 전화기\n",
      "영어 단어를 입력하세요: church\n",
      "한국어 뜻을 입력하세요: 교회\n",
      "영어 단어를 입력하세요: q\n"
     ]
    }
   ],
   "source": [
    "write_data=open('vocabulary.txt','w',encoding='utf-8')\n",
    "check = True\n",
    "while check:\n",
    "    en_data = input(\"영어 단어를 입력하세요: \")\n",
    "   \n",
    "    if en_data == \"q\":\n",
    "        check=False\n",
    "        break\n",
    "    \n",
    "    ko_data = input(\"한국어 뜻을 입력하세요: \")\n",
    "    \n",
    "    write_data.write(\"%s: %s\\n\"%(en_data,ko_data))\n",
    "\n",
    "write_data.close()"
   ]
  },
  {
   "cell_type": "code",
   "execution_count": 24,
   "metadata": {},
   "outputs": [
    {
     "name": "stdout",
     "output_type": "stream",
     "text": [
      "개: dog\n",
      "아쉽습니다. 정답은 dg입니다.\n",
      "개: dg\n",
      "맞았습니다!\n",
      "전화기: phone\n",
      "맞았습니다!\n",
      "개: dog\n",
      "아쉽습니다. 정답은 dg입니다.\n",
      "모자: hat\n",
      "맞았습니다!\n",
      "물: q\n"
     ]
    }
   ],
   "source": [
    "from random import randint\n",
    "\n",
    "read_data =open('vocabulary.txt','r',encoding='utf-8')\n",
    "\n",
    "voca = {}\n",
    "count=0\n",
    "for read_line in read_data:\n",
    "    \n",
    "    voca[count]=read_line\n",
    "    count+=1\n",
    "    \n",
    "\n",
    "check =True\n",
    "while check:\n",
    "    read_count =randint(0,len(voca))\n",
    "    \n",
    "    question = voca[read_count]\n",
    "    \n",
    "    quest_data = question.strip().split(\": \")[1]\n",
    "    answer_data = question.split(\": \")[0]\n",
    "    input_data = input(\"%s: \"%quest_data)\n",
    "    if input_data == \"q\":\n",
    "        check = False\n",
    "        break\n",
    "        \n",
    "    if input_data == answer_data:\n",
    "        print(\"맞았습니다!\")\n",
    "    else:\n",
    "        print(\"아쉽습니다. 정답은 %s입니다.\"%answer_data)\n"
   ]
  },
  {
   "cell_type": "code",
   "execution_count": null,
   "metadata": {},
   "outputs": [],
   "source": []
  }
 ],
 "metadata": {
  "kernelspec": {
   "display_name": "Python 3",
   "language": "python",
   "name": "python3"
  },
  "language_info": {
   "codemirror_mode": {
    "name": "ipython",
    "version": 3
   },
   "file_extension": ".py",
   "mimetype": "text/x-python",
   "name": "python",
   "nbconvert_exporter": "python",
   "pygments_lexer": "ipython3",
   "version": "3.7.3"
  }
 },
 "nbformat": 4,
 "nbformat_minor": 2
}
