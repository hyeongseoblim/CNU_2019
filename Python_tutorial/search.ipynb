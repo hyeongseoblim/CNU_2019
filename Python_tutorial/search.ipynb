{
 "cells": [
  {
   "cell_type": "code",
   "execution_count": 9,
   "metadata": {},
   "outputs": [
    {
     "name": "stdout",
     "output_type": "stream",
     "text": [
      "0\n",
      "None\n",
      "2\n",
      "1\n",
      "3\n",
      "4\n"
     ]
    }
   ],
   "source": [
    "'''def linear_search(element, some_list):\n",
    "    for count in range(len(some_list)):\n",
    "        if element == i:\n",
    "            return count\n",
    "def binary_search(element, some_list):#iterator\n",
    "    start = 0\n",
    "    end = len(some_list)\n",
    "    while start != end:\n",
    "        mid =  (start+end)//2\n",
    "        if some_list[mid] == element:\n",
    "            return mid\n",
    "        elif some_list[mid] > element:\n",
    "            end = mid\n",
    "        elif some_list[mid]<element:pi\n",
    "            start = mid\n",
    "            '''\n",
    "def binary_search(element, some_list, start_index = 0, end_index = None):#recursive\n",
    "    result = 0\n",
    "    if end_index == None:\n",
    "        end_index = len(some_list)-1\n",
    "    \n",
    "    mid_index= (start_index+end_index)//2\n",
    "    if start_index>end_index:\n",
    "        return None\n",
    "    \n",
    "    if some_list[mid_index] == element:\n",
    "        result = mid_index\n",
    "        return result\n",
    "    elif some_list[mid_index] > element:\n",
    "        end_index = mid_index-1\n",
    "        return binary_search(element,some_list,start_index,end_index)\n",
    "    else :\n",
    "        start_index = mid_index+1\n",
    "        return binary_search(element,some_list,start_index,end_index)\n",
    "    \n",
    "    \n",
    "    \n",
    "print(binary_search(2, [2, 3, 5, 7, 11]))\n",
    "print(binary_search(0, [2, 3, 5, 7, 11]))\n",
    "print(binary_search(5, [2, 3, 5, 7, 11]))\n",
    "print(binary_search(3, [2, 3, 5, 7, 11]))\n",
    "\n",
    "print(binary_search(7, [2, 3, 5, 7, 11]))\n",
    "print(binary_search(11, [2, 3, 5, 7, 11]))\n"
   ]
  },
  {
   "cell_type": "code",
   "execution_count": null,
   "metadata": {},
   "outputs": [],
   "source": []
  }
 ],
 "metadata": {
  "kernelspec": {
   "display_name": "Python 3",
   "language": "python",
   "name": "python3"
  },
  "language_info": {
   "codemirror_mode": {
    "name": "ipython",
    "version": 3
   },
   "file_extension": ".py",
   "mimetype": "text/x-python",
   "name": "python",
   "nbconvert_exporter": "python",
   "pygments_lexer": "ipython3",
   "version": "3.6.5"
  }
 },
 "nbformat": 4,
 "nbformat_minor": 2
}
