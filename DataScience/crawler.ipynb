{
 "cells": [
  {
   "cell_type": "code",
   "execution_count": 1,
   "metadata": {},
   "outputs": [],
   "source": [
    "import requests\n",
    "from urllib.request import urlopen\n",
    "\n",
    "from bs4 import BeautifulSoup\n",
    "\n",
    "import csv\n"
   ]
  },
  {
   "cell_type": "code",
   "execution_count": 4,
   "metadata": {},
   "outputs": [
    {
     "data": {
      "text/plain": [
       "18"
      ]
     },
     "execution_count": 4,
     "metadata": {},
     "output_type": "execute_result"
    }
   ],
   "source": [
    "f = open('list.csv','w',encoding='utf-8',newline=\"\")\n",
    "wr = csv.writer(f)\n",
    "wr.writerow( ['Title','Author','Src'])\n"
   ]
  },
  {
   "cell_type": "code",
   "execution_count": 3,
   "metadata": {
    "collapsed": true
   },
   "outputs": [
    {
     "name": "stdout",
     "output_type": "stream",
     "text": [
      "https://arxiv.org/list/cs/pastweek?skip=0&show=25\n",
      "https://arxiv.org/list/cs/pastweek?skip=25&show=25\n",
      "https://arxiv.org/list/cs/pastweek?skip=50&show=25\n",
      "https://arxiv.org/list/cs/pastweek?skip=75&show=25\n",
      "https://arxiv.org/list/cs/pastweek?skip=100&show=25\n",
      "https://arxiv.org/list/cs/pastweek?skip=125&show=25\n",
      "https://arxiv.org/list/cs/pastweek?skip=150&show=25\n",
      "https://arxiv.org/list/cs/pastweek?skip=175&show=25\n",
      "https://arxiv.org/list/cs/pastweek?skip=200&show=25\n",
      "https://arxiv.org/list/cs/pastweek?skip=225&show=25\n",
      "https://arxiv.org/list/cs/pastweek?skip=250&show=25\n",
      "https://arxiv.org/list/cs/pastweek?skip=275&show=25\n",
      "https://arxiv.org/list/cs/pastweek?skip=300&show=25\n",
      "https://arxiv.org/list/cs/pastweek?skip=325&show=25\n",
      "https://arxiv.org/list/cs/pastweek?skip=350&show=25\n",
      "https://arxiv.org/list/cs/pastweek?skip=375&show=25\n",
      "https://arxiv.org/list/cs/pastweek?skip=400&show=25\n",
      "https://arxiv.org/list/cs/pastweek?skip=425&show=25\n",
      "https://arxiv.org/list/cs/pastweek?skip=450&show=25\n",
      "https://arxiv.org/list/cs/pastweek?skip=475&show=25\n",
      "https://arxiv.org/list/cs/pastweek?skip=500&show=25\n",
      "https://arxiv.org/list/cs/pastweek?skip=525&show=25\n",
      "https://arxiv.org/list/cs/pastweek?skip=550&show=25\n",
      "https://arxiv.org/list/cs/pastweek?skip=575&show=25\n",
      "https://arxiv.org/list/cs/pastweek?skip=600&show=25\n",
      "https://arxiv.org/list/cs/pastweek?skip=625&show=25\n",
      "https://arxiv.org/list/cs/pastweek?skip=650&show=25\n",
      "https://arxiv.org/list/cs/pastweek?skip=675&show=25\n",
      "https://arxiv.org/list/cs/pastweek?skip=700&show=25\n",
      "https://arxiv.org/list/cs/pastweek?skip=725&show=25\n",
      "https://arxiv.org/list/cs/pastweek?skip=750&show=25\n",
      "https://arxiv.org/list/cs/pastweek?skip=775&show=25\n",
      "https://arxiv.org/list/cs/pastweek?skip=800&show=25\n",
      "https://arxiv.org/list/cs/pastweek?skip=825&show=25\n",
      "https://arxiv.org/list/cs/pastweek?skip=850&show=25\n",
      "https://arxiv.org/list/cs/pastweek?skip=875&show=25\n",
      "https://arxiv.org/list/cs/pastweek?skip=900&show=25\n",
      "https://arxiv.org/list/cs/pastweek?skip=925&show=25\n",
      "https://arxiv.org/list/cs/pastweek?skip=950&show=25\n",
      "https://arxiv.org/list/cs/pastweek?skip=975&show=25\n",
      "https://arxiv.org/list/cs/pastweek?skip=1000&show=25\n",
      "https://arxiv.org/list/cs/pastweek?skip=1025&show=25\n",
      "https://arxiv.org/list/cs/pastweek?skip=1050&show=25\n",
      "https://arxiv.org/list/cs/pastweek?skip=1075&show=25\n",
      "https://arxiv.org/list/cs/pastweek?skip=1100&show=25\n",
      "https://arxiv.org/list/cs/pastweek?skip=1125&show=25\n",
      "https://arxiv.org/list/cs/pastweek?skip=1150&show=25\n",
      "https://arxiv.org/list/cs/pastweek?skip=1175&show=25\n",
      "https://arxiv.org/list/cs/pastweek?skip=1200&show=25\n",
      "https://arxiv.org/list/cs/pastweek?skip=1225&show=25\n",
      "https://arxiv.org/list/cs/pastweek?skip=1250&show=25\n",
      "https://arxiv.org/list/cs/pastweek?skip=1275&show=25\n",
      "https://arxiv.org/list/cs/pastweek?skip=1300&show=25\n",
      "https://arxiv.org/list/cs/pastweek?skip=1325&show=25\n",
      "https://arxiv.org/list/cs/pastweek?skip=1350&show=25\n"
     ]
    }
   ],
   "source": [
    "url='https://arxiv.org/list/cs/pastweek?skip='\n",
    "count = 0 \n",
    "url2='&show=25'\n",
    "html_url = url+str(count)+url2\n",
    "title_list = list()\n",
    "author = list()\n",
    "src_list = list()\n",
    "for i in range(55):\n",
    "    print(html_url)\n",
    "    html= urlopen(html_url)\n",
    "    \n",
    "    bsObject = BeautifulSoup(html,\"html.parser\")\n",
    "    for text in bsObject.find_all('div',class_=\"list-title mathjax\"):\n",
    "        title_list.append([' '.join((text.text.strip().split(': ')[1:]))])\n",
    "    for text2 in bsObject.find_all('div',class_=\"list-authors\"):\n",
    "        author.append(text2.text.strip().split('\\n')[1:])\n",
    "    for text in bsObject.find_all('a',{\"title\":\"Abstract\"}):\n",
    "        src_list.append('https://arxiv.org/'+text.get('href'))\n",
    "    count +=25\n",
    "    html_url = url+str(count)+url2\n"
   ]
  },
  {
   "cell_type": "code",
   "execution_count": 5,
   "metadata": {},
   "outputs": [],
   "source": [
    "for idx in range(len(author)):\n",
    "    wr.writerow( [''.join(title_list[idx]),''.join(author[idx]),''.join(src_list[idx])])\n",
    "f.close()"
   ]
  },
  {
   "cell_type": "code",
   "execution_count": null,
   "metadata": {},
   "outputs": [],
   "source": []
  }
 ],
 "metadata": {
  "kernelspec": {
   "display_name": "Python 3",
   "language": "python",
   "name": "python3"
  },
  "language_info": {
   "codemirror_mode": {
    "name": "ipython",
    "version": 3
   },
   "file_extension": ".py",
   "mimetype": "text/x-python",
   "name": "python",
   "nbconvert_exporter": "python",
   "pygments_lexer": "ipython3",
   "version": "3.7.4"
  }
 },
 "nbformat": 4,
 "nbformat_minor": 2
}
