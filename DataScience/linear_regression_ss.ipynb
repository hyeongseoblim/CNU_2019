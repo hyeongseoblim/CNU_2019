{
 "cells": [
  {
   "cell_type": "code",
   "execution_count": 102,
   "metadata": {},
   "outputs": [],
   "source": [
    "from os.path import join\n",
    "import numpy as np\n",
    "import pandas as pd\n",
    "import matplotlib.pyplot as plt\n",
    "from sklearn import metrics\n",
    "from sklearn.model_selection import train_test_split\n",
    "from sklearn.linear_model import LinearRegression\n",
    "from sklearn.linear_model import Lasso\n",
    "from sklearn.linear_model import Ridge\n",
    "from sklearn.tree import DecisionTreeRegressor\n",
    "from sklearn.tree import export_graphviz\n",
    "from sklearn.neighbors import KNeighborsRegressor\n",
    "\n",
    "%matplotlib inline"
   ]
  },
  {
   "cell_type": "code",
   "execution_count": 81,
   "metadata": {
    "scrolled": false
   },
   "outputs": [
    {
     "data": {
      "text/html": [
       "<div>\n",
       "<style scoped>\n",
       "    .dataframe tbody tr th:only-of-type {\n",
       "        vertical-align: middle;\n",
       "    }\n",
       "\n",
       "    .dataframe tbody tr th {\n",
       "        vertical-align: top;\n",
       "    }\n",
       "\n",
       "    .dataframe thead th {\n",
       "        text-align: right;\n",
       "    }\n",
       "</style>\n",
       "<table border=\"1\" class=\"dataframe\">\n",
       "  <thead>\n",
       "    <tr style=\"text-align: right;\">\n",
       "      <th></th>\n",
       "      <th>Sex</th>\n",
       "      <th>Length</th>\n",
       "      <th>Diameter continuous</th>\n",
       "      <th>Height</th>\n",
       "      <th>Whole weight</th>\n",
       "      <th>Shucked weight</th>\n",
       "      <th>Viscera weight</th>\n",
       "      <th>Shell weight</th>\n",
       "      <th>Rings</th>\n",
       "    </tr>\n",
       "  </thead>\n",
       "  <tbody>\n",
       "    <tr>\n",
       "      <th>0</th>\n",
       "      <td>M</td>\n",
       "      <td>0.455</td>\n",
       "      <td>0.365</td>\n",
       "      <td>0.095</td>\n",
       "      <td>0.5140</td>\n",
       "      <td>0.2245</td>\n",
       "      <td>0.1010</td>\n",
       "      <td>0.150</td>\n",
       "      <td>15</td>\n",
       "    </tr>\n",
       "    <tr>\n",
       "      <th>1</th>\n",
       "      <td>M</td>\n",
       "      <td>0.350</td>\n",
       "      <td>0.265</td>\n",
       "      <td>0.090</td>\n",
       "      <td>0.2255</td>\n",
       "      <td>0.0995</td>\n",
       "      <td>0.0485</td>\n",
       "      <td>0.070</td>\n",
       "      <td>7</td>\n",
       "    </tr>\n",
       "    <tr>\n",
       "      <th>2</th>\n",
       "      <td>F</td>\n",
       "      <td>0.530</td>\n",
       "      <td>0.420</td>\n",
       "      <td>0.135</td>\n",
       "      <td>0.6770</td>\n",
       "      <td>0.2565</td>\n",
       "      <td>0.1415</td>\n",
       "      <td>0.210</td>\n",
       "      <td>9</td>\n",
       "    </tr>\n",
       "    <tr>\n",
       "      <th>3</th>\n",
       "      <td>M</td>\n",
       "      <td>0.440</td>\n",
       "      <td>0.365</td>\n",
       "      <td>0.125</td>\n",
       "      <td>0.5160</td>\n",
       "      <td>0.2155</td>\n",
       "      <td>0.1140</td>\n",
       "      <td>0.155</td>\n",
       "      <td>10</td>\n",
       "    </tr>\n",
       "    <tr>\n",
       "      <th>4</th>\n",
       "      <td>I</td>\n",
       "      <td>0.330</td>\n",
       "      <td>0.255</td>\n",
       "      <td>0.080</td>\n",
       "      <td>0.2050</td>\n",
       "      <td>0.0895</td>\n",
       "      <td>0.0395</td>\n",
       "      <td>0.055</td>\n",
       "      <td>7</td>\n",
       "    </tr>\n",
       "  </tbody>\n",
       "</table>\n",
       "</div>"
      ],
      "text/plain": [
       "  Sex  Length  Diameter continuous  Height  Whole weight  Shucked weight  \\\n",
       "0   M   0.455                0.365   0.095        0.5140          0.2245   \n",
       "1   M   0.350                0.265   0.090        0.2255          0.0995   \n",
       "2   F   0.530                0.420   0.135        0.6770          0.2565   \n",
       "3   M   0.440                0.365   0.125        0.5160          0.2155   \n",
       "4   I   0.330                0.255   0.080        0.2050          0.0895   \n",
       "\n",
       "   Viscera weight  Shell weight  Rings  \n",
       "0          0.1010         0.150     15  \n",
       "1          0.0485         0.070      7  \n",
       "2          0.1415         0.210      9  \n",
       "3          0.1140         0.155     10  \n",
       "4          0.0395         0.055      7  "
      ]
     },
     "execution_count": 81,
     "metadata": {},
     "output_type": "execute_result"
    }
   ],
   "source": [
    "#data import \n",
    "\n",
    "data_frame = pd.read_csv(join('data','abalone.csv'))\n",
    "data_frame.head(5)"
   ]
  },
  {
   "cell_type": "code",
   "execution_count": 123,
   "metadata": {},
   "outputs": [
    {
     "name": "stdout",
     "output_type": "stream",
     "text": [
      "[129110.28838615]\n",
      "-------------Linear Regression------------\n",
      "RMSE: 2.2061754707957455\n",
      "R2: 0.52261686265919\n"
     ]
    },
    {
     "data": {
      "image/png": "[encoded data removed]",
      "text/plain": [
       "<Figure size 432x288 with 1 Axes>"
      ]
     },
     "metadata": {},
     "output_type": "display_data"
    }
   ],
   "source": [
    "trn_x, tst_x, trn_y, tst_y = train_test_split(data_frame.iloc[:,1:8],data_frame.iloc[:,-1],test_size=0.3,random_state=123)\n",
    "\n",
    "mod_lin = LinearRegression()\n",
    "mod_lin.fit(X=trn_x, y=trn_y)\n",
    "lr_pred_lin =  mod_lin.predict(X=tst_x)\n",
    "\n",
    "np.sqrt(np.mean((np.square(lr_pred_lin-tst_y))))\n",
    "plt.scatter(tst_y, lr_pred_lin, color='red')\n",
    "lin_rm = np.sqrt(metrics.mean_squared_error(lr_pred_lin, tst_y))\n",
    "lin_r2 = metrics.r2_score(tst_y, lr_pred_lin)\n",
    "\n",
    "print(np.correlate(tst_y, lr_pred_lin))\n",
    "print(\"-------------Linear Regression------------\") \n",
    "print('RMSE:', np.sqrt(metrics.mean_squared_error(lr_pred_lin, tst_y)))\n",
    "print('R2:',metrics.r2_score(tst_y, lr_pred_lin))\n"
   ]
  },
  {
   "cell_type": "markdown",
   "metadata": {},
   "source": [
    "# mod_knn = KNeighborsRegressor(n_neighbors=5)\n",
    "mod_knn.fit(X=trn_x, y=trn_y)\n",
    "lr_pred_knn = mod_knn.predict(X=tst_x)\n",
    "knn_rm = np.sqrt(metrics.mean_squared_error(lr_pred_knn, tst_y))\n",
    "knn_r2 = metrics.r2_score(tst_y, lr_pred_knn)\n",
    "plt.scatter(tst_y, lr_pred_knn, color='green')\n",
    "print(\"-------------KNN Regression------------\") \n",
    "print('RMSE:', np.sqrt(metrics.mean_squared_error(lr_pred_knn, tst_y)))\n",
    "print('R2:',metrics.r2_score(tst_y, lr_pred_knn))"
   ]
  },
  {
   "cell_type": "code",
   "execution_count": 126,
   "metadata": {},
   "outputs": [
    {
     "name": "stdout",
     "output_type": "stream",
     "text": [
      "-------------DT Regression------------\n",
      "RMSE: 2.5252479502339704\n",
      "R2: 0.37454650221248154\n"
     ]
    },
    {
     "data": {
      "image/png": "[encoded data removed]",
      "text/plain": [
       "<Figure size 432x288 with 1 Axes>"
      ]
     },
     "metadata": {},
     "output_type": "display_data"
    }
   ],
   "source": [
    "#------------------------------------------\n",
    "mod_trr = DecisionTreeRegressor(max_depth=10, max_leaf_nodes=50, min_samples_split=3)\n",
    "mod_trr.fit(X=trn_x, y=trn_y)\n",
    "lr_pred_trr = mod_trr.predict(X=tst_x)\n",
    "dt_rm = np.sqrt(metrics.mean_squared_error(lr_pred_trr, tst_y))\n",
    "dt_r2 = metrics.r2_score(tst_y, lr_pred_trr)\n",
    "plt.scatter(tst_y, lr_pred_trr, color='blue')\n",
    "print(\"-------------DT Regression------------\") \n",
    "print('RMSE:', np.sqrt(metrics.mean_squared_error(lr_pred_trr, tst_y)))\n",
    "print('R2:',metrics.r2_score(tst_y, lr_pred_trr))\n",
    "#-- DT visualization\n",
    "mod_trr.feature_importances_\n",
    "export_graphviz(mod_trr, out_file='trr2.dot')\n",
    "\n",
    "\n"
   ]
  },
  {
   "cell_type": "code",
   "execution_count": 125,
   "metadata": {},
   "outputs": [
    {
     "data": {
      "image/png": "[encoded data removed]",
      "text/plain": [
       "<Figure size 432x288 with 1 Axes>"
      ]
     },
     "metadata": {},
     "output_type": "display_data"
    },
    {
     "data": {
      "image/png": "[encoded data removed]",
      "text/plain": [
       "<Figure size 432x288 with 1 Axes>"
      ]
     },
     "metadata": {},
     "output_type": "display_data"
    }
   ],
   "source": [
    "#-- performance visualization\n",
    "\n",
    "cls = ('linear','DT','KNN')\n",
    "y_value = np.arange(len(cls))\n",
    "performance = [lin_rm,dt_rm,knn_rm]\n",
    "\n",
    "plt.bar(y_value,performance,align='center')\n",
    "plt.ylabel('accuracy')\n",
    "plt.xlabel('RMSE')\n",
    "plt.xticks(y_value,cls)\n",
    "plt.show()\n",
    "\n",
    "cls2 = ('linear','DT','KNN')\n",
    "\n",
    "y_value = np.arange(len(cls2))\n",
    "performance = [lin_r2,dt_r2,knn_r2]\n",
    "\n",
    "plt.bar(y_value,performance,align='center')\n",
    "plt.ylabel('accuracy')\n",
    "plt.xlabel('R2')\n",
    "plt.xticks(y_value,cls)\n",
    "plt.show()"
   ]
  }
 ],
 "metadata": {
  "kernelspec": {
   "display_name": "Python 3",
   "language": "python",
   "name": "python3"
  },
  "language_info": {
   "codemirror_mode": {
    "name": "ipython",
    "version": 3
   },
   "file_extension": ".py",
   "mimetype": "text/x-python",
   "name": "python",
   "nbconvert_exporter": "python",
   "pygments_lexer": "ipython3",
   "version": "3.6.5"
  }
 },
 "nbformat": 4,
 "nbformat_minor": 2
}
