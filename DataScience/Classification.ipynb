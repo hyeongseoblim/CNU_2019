{
 "cells": [
  {
   "cell_type": "code",
   "execution_count": 98,
   "metadata": {},
   "outputs": [
    {
     "data": {
      "text/html": [
       "<div>\n",
       "<style scoped>\n",
       "    .dataframe tbody tr th:only-of-type {\n",
       "        vertical-align: middle;\n",
       "    }\n",
       "\n",
       "    .dataframe tbody tr th {\n",
       "        vertical-align: top;\n",
       "    }\n",
       "\n",
       "    .dataframe thead th {\n",
       "        text-align: right;\n",
       "    }\n",
       "</style>\n",
       "<table border=\"1\" class=\"dataframe\">\n",
       "  <thead>\n",
       "    <tr style=\"text-align: right;\">\n",
       "      <th></th>\n",
       "      <th>Sex</th>\n",
       "      <th>Length</th>\n",
       "      <th>Diameter continuous</th>\n",
       "      <th>Height</th>\n",
       "      <th>Whole weight</th>\n",
       "      <th>Shucked weight</th>\n",
       "      <th>Viscera weight</th>\n",
       "      <th>Shell weight</th>\n",
       "      <th>Rings</th>\n",
       "    </tr>\n",
       "  </thead>\n",
       "  <tbody>\n",
       "    <tr>\n",
       "      <th>0</th>\n",
       "      <td>M</td>\n",
       "      <td>0.455</td>\n",
       "      <td>0.365</td>\n",
       "      <td>0.095</td>\n",
       "      <td>0.5140</td>\n",
       "      <td>0.2245</td>\n",
       "      <td>0.1010</td>\n",
       "      <td>0.150</td>\n",
       "      <td>15</td>\n",
       "    </tr>\n",
       "    <tr>\n",
       "      <th>1</th>\n",
       "      <td>M</td>\n",
       "      <td>0.350</td>\n",
       "      <td>0.265</td>\n",
       "      <td>0.090</td>\n",
       "      <td>0.2255</td>\n",
       "      <td>0.0995</td>\n",
       "      <td>0.0485</td>\n",
       "      <td>0.070</td>\n",
       "      <td>7</td>\n",
       "    </tr>\n",
       "    <tr>\n",
       "      <th>2</th>\n",
       "      <td>F</td>\n",
       "      <td>0.530</td>\n",
       "      <td>0.420</td>\n",
       "      <td>0.135</td>\n",
       "      <td>0.6770</td>\n",
       "      <td>0.2565</td>\n",
       "      <td>0.1415</td>\n",
       "      <td>0.210</td>\n",
       "      <td>9</td>\n",
       "    </tr>\n",
       "    <tr>\n",
       "      <th>3</th>\n",
       "      <td>M</td>\n",
       "      <td>0.440</td>\n",
       "      <td>0.365</td>\n",
       "      <td>0.125</td>\n",
       "      <td>0.5160</td>\n",
       "      <td>0.2155</td>\n",
       "      <td>0.1140</td>\n",
       "      <td>0.155</td>\n",
       "      <td>10</td>\n",
       "    </tr>\n",
       "    <tr>\n",
       "      <th>4</th>\n",
       "      <td>I</td>\n",
       "      <td>0.330</td>\n",
       "      <td>0.255</td>\n",
       "      <td>0.080</td>\n",
       "      <td>0.2050</td>\n",
       "      <td>0.0895</td>\n",
       "      <td>0.0395</td>\n",
       "      <td>0.055</td>\n",
       "      <td>7</td>\n",
       "    </tr>\n",
       "  </tbody>\n",
       "</table>\n",
       "</div>"
      ],
      "text/plain": [
       "  Sex  Length  Diameter continuous  Height  Whole weight  Shucked weight  \\\n",
       "0   M   0.455                0.365   0.095        0.5140          0.2245   \n",
       "1   M   0.350                0.265   0.090        0.2255          0.0995   \n",
       "2   F   0.530                0.420   0.135        0.6770          0.2565   \n",
       "3   M   0.440                0.365   0.125        0.5160          0.2155   \n",
       "4   I   0.330                0.255   0.080        0.2050          0.0895   \n",
       "\n",
       "   Viscera weight  Shell weight  Rings  \n",
       "0          0.1010         0.150     15  \n",
       "1          0.0485         0.070      7  \n",
       "2          0.1415         0.210      9  \n",
       "3          0.1140         0.155     10  \n",
       "4          0.0395         0.055      7  "
      ]
     },
     "execution_count": 98,
     "metadata": {},
     "output_type": "execute_result"
    }
   ],
   "source": [
    "import numpy as np\n",
    "import pandas as pd\n",
    "import matplotlib.pyplot as plt\n",
    "from matplotlib.colors import ListedColormap\n",
    "from sklearn.model_selection import train_test_split\n",
    "from sklearn.preprocessing import MinMaxScaler\n",
    "from sklearn import neighbors\n",
    "from sklearn import metrics\n",
    "from sklearn import tree\n",
    "from sklearn.tree import export_graphviz\n",
    "from sklearn.preprocessing import StandardScaler\n",
    "from sklearn.neural_network import MLPClassifier\n",
    "from sklearn.metrics import accuracy_score\n",
    "\n",
    "%matplotlib inline\n",
    "\n",
    "data_path = \"data/abalone.csv\"\n",
    "read_data = pd.read_csv(data_path)\n",
    "read_data.head(5)\n"
   ]
  },
  {
   "cell_type": "code",
   "execution_count": 139,
   "metadata": {},
   "outputs": [
    {
     "name": "stdout",
     "output_type": "stream",
     "text": [
      "--------------------KNN---------------------\n",
      "거리기반 학습 정확도 : 100.0\n",
      "거리기반 테스트 정확도 : 53.34928229665071\n"
     ]
    },
    {
     "data": {
      "image/png": "[encoded data removed]",
      "text/plain": [
       "<Figure size 432x288 with 1 Axes>"
      ]
     },
     "metadata": {},
     "output_type": "display_data"
    }
   ],
   "source": [
    "#-- Set Data.\n",
    "np_read_data = np.array(read_data)\n",
    "data_x = np_read_data[:,1:9]\n",
    "data_y = np_read_data[:,0]\n",
    "\n",
    "trn_x, tst_x, trn_y, tst_y = train_test_split(data_x[:,1:9], data_y, test_size=0.3)\n",
    "\n",
    "#-- traing set & test set\n",
    "mod_knn = neighbors.KNeighborsClassifier(n_neighbors=5, weights = 'distance')\n",
    "mod_knn.fit(X=trn_x,y=trn_y)\n",
    "knn_pred_trn = mod_knn.predict(X=trn_x)\n",
    "knn_pred_tst = mod_knn.predict(X=tst_x)\n",
    "\n",
    "#-- visualization for KNN\n",
    "plt.scatter(x=tst_y, y=knn_pred_tst)\n",
    "plt.xlabel(\"knn\")\n",
    "\n",
    "print(\"--------------------KNN---------------------\")\n",
    "print(\"거리기반 학습 정확도 :\",(metrics.accuracy_score(trn_y, knn_pred_trn)*100))\n",
    "print(\"거리기반 테스트 정확도 :\",(metrics.accuracy_score(tst_y, knn_pred_tst)*100))\n",
    "knn=metrics.accuracy_score(tst_y, knn_pred_tst)*100\n",
    "#---------------------------------------------------\n"
   ]
  },
  {
   "cell_type": "code",
   "execution_count": 140,
   "metadata": {},
   "outputs": [
    {
     "name": "stdout",
     "output_type": "stream",
     "text": [
      "--------------------DT---------------------\n",
      "학습 정확도 : 63.462196373588775\n",
      "테스트 정확도 : 53.74800637958532\n"
     ]
    },
    {
     "data": {
      "image/png": "[encoded data removed]",
      "text/plain": [
       "<Figure size 432x288 with 1 Axes>"
      ]
     },
     "metadata": {},
     "output_type": "display_data"
    }
   ],
   "source": [
    "\n",
    "#--DT training set & test set\n",
    "mod_trr = tree.DecisionTreeClassifier(max_depth = 10, max_leaf_nodes = 50, min_samples_split=3)\n",
    "\n",
    "mod_trr.fit(X=trn_x,y=trn_y)\n",
    "\n",
    "tree_pred_trn = mod_trr.predict(X=trn_x)\n",
    "tree_pred_tst = mod_trr.predict(X=tst_x)\n",
    "plt.scatter(x=tst_y, y=tree_pred_tst)\n",
    "plt.xlabel(\"DT\")\n",
    "\n",
    "print(\"--------------------DT---------------------\")\n",
    "print(\"학습 정확도 :\",(metrics.accuracy_score(trn_y, tree_pred_trn)*100))\n",
    "print(\"테스트 정확도 :\",(metrics.accuracy_score(tst_y, tree_pred_tst)*100))\n",
    "dt=metrics.accuracy_score(tst_y, tree_pred_tst)*100\n",
    "\n",
    "#-----------------------------------------\n",
    "\n"
   ]
  },
  {
   "cell_type": "code",
   "execution_count": 141,
   "metadata": {},
   "outputs": [
    {
     "name": "stderr",
     "output_type": "stream",
     "text": [
      "D:\\Program Files (x86)\\Microsoft Visual Studio\\Shared\\Anaconda3_64\\lib\\site-packages\\sklearn\\utils\\validation.py:475: DataConversionWarning: Data with input dtype object was converted to float64 by StandardScaler.\n",
      "  warnings.warn(msg, DataConversionWarning)\n"
     ]
    },
    {
     "name": "stdout",
     "output_type": "stream",
     "text": [
      "--------------------NN---------------------\n",
      "학습 정확도 : 55.86725966472802\n",
      "테스트 정확도 : 56.14035087719298\n"
     ]
    },
    {
     "data": {
      "image/png": "[encoded data removed]",
      "text/plain": [
       "<Figure size 432x288 with 1 Axes>"
      ]
     },
     "metadata": {},
     "output_type": "display_data"
    }
   ],
   "source": [
    "#-- NN set\n",
    "scaler=StandardScaler()\n",
    "scaler.fit(trn_x)\n",
    "trn_x_scale = scaler.transform(trn_x)\n",
    "tst_x_scale = scaler.transform(tst_x)\n",
    "\n",
    "#--NN training set & test set\n",
    "mod_nn = MLPClassifier(activation='relu', solver='lbfgs', alpha=1e-5, hidden_layer_sizes=(5), random_state=1)\n",
    "mod_nn.fit(X=trn_x_scale, y=trn_y)\n",
    "\n",
    "nn_pred_trn = mod_nn.predict(X=trn_x_scale)\n",
    "nn_pred_tst = mod_nn.predict(X=tst_x_scale)\n",
    "\n",
    "plt.scatter(x=tst_y, y=nn_pred_tst)\n",
    "plt.xlabel(\"NN\")\n",
    "\n",
    "print(\"--------------------NN---------------------\")\n",
    "print(\"학습 정확도 :\",accuracy_score(trn_y, nn_pred_trn)*100)\n",
    "print(\"테스트 정확도 :\",(accuracy_score(tst_y, nn_pred_tst)*100))\n",
    "nn=(accuracy_score(tst_y, nn_pred_tst)*100)"
   ]
  },
  {
   "cell_type": "code",
   "execution_count": 135,
   "metadata": {},
   "outputs": [
    {
     "data": {
      "image/png": "[encoded data removed]",
      "text/plain": [
       "<Figure size 432x288 with 1 Axes>"
      ]
     },
     "metadata": {},
     "output_type": "display_data"
    }
   ],
   "source": [
    "#-- performance visualization\n",
    "\n",
    "cls = ('KNN','DT','NN')\n",
    "y_value = np.arange(len(cls))\n",
    "performance = [knn,dt,nn]\n",
    "\n",
    "plt.bar(y_value,performance,align='center')\n",
    "plt.ylabel('accuracy')\n",
    "plt.xticks(y_value,cls)\n",
    "plt.show()\n",
    "\n",
    "#-- DT visualization\n",
    "mod_trr.feature_importances_\n",
    "export_graphviz(mod_trr, out_file='trr.dot')"
   ]
  }
 ],
 "metadata": {
  "kernelspec": {
   "display_name": "Python 3",
   "language": "python",
   "name": "python3"
  },
  "language_info": {
   "codemirror_mode": {
    "name": "ipython",
    "version": 3
   },
   "file_extension": ".py",
   "mimetype": "text/x-python",
   "name": "python",
   "nbconvert_exporter": "python",
   "pygments_lexer": "ipython3",
   "version": "3.6.5"
  }
 },
 "nbformat": 4,
 "nbformat_minor": 2
}
